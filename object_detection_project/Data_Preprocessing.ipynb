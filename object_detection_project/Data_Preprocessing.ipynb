{
 "cells": [
  {
   "cell_type": "code",
   "execution_count": 1,
   "id": "47a045dd-673d-45ae-a624-9a00475754e1",
   "metadata": {},
   "outputs": [],
   "source": [
    "import os\n",
    "import pandas as pd\n",
    "import numpy as np\n",
    "import cv2\n",
    "from tensorflow.keras.preprocessing.image import ImageDataGenerator\n",
    "import pickle"
   ]
  },
  {
   "cell_type": "code",
   "execution_count": 2,
   "id": "234a5eea-1eb8-4734-9040-f9b787b4d7bd",
   "metadata": {},
   "outputs": [],
   "source": [
    "# Load the CSV file\n",
    "train_data = pd.read_csv(r\"C:\\Users\\acer\\OneDrive\\Jupyter\\object_detection_project\\data\\train\\classes.csv\")\n",
    "test_data = pd.read_csv(r\"C:\\Users\\acer\\OneDrive\\Jupyter\\object_detection_project\\data\\test\\classes.csv\")\n",
    "valid_data = pd.read_csv(r\"C:\\Users\\acer\\OneDrive\\Jupyter\\object_detection_project\\data\\valid\\classes.csv\")"
   ]
  },
  {
   "cell_type": "code",
   "execution_count": 3,
   "id": "d615fcf2-369b-4d47-8306-c6f57489cf67",
   "metadata": {},
   "outputs": [],
   "source": [
    "# Helper function to load and preprocess images\n",
    "def preprocess_image(filename, target_size=(224, 224)):\n",
    "    if not os.path.exists(filename):\n",
    "        print(f\"Error: File not found -> {filename}\")\n",
    "        return None  # Skip this file\n",
    "    \n",
    "    img = cv2.imread(filename)  # Read the image\n",
    "    if img is None:\n",
    "        print(f\"Error: Failed to load image -> {filename}\")\n",
    "        return None  # Skip this file\n",
    "\n",
    "    img = cv2.resize(img, target_size)  # Resize to the desired target size\n",
    "    img = img.astype('float32') / 255.0  # Normalize the image\n",
    "    return img"
   ]
  },
  {
   "cell_type": "code",
   "execution_count": 4,
   "id": "c9c264bc-d36b-4372-a836-08b056f5d24b",
   "metadata": {},
   "outputs": [],
   "source": [
    "def load_data(dataframe, image_folder):\n",
    "    images = []\n",
    "    labels = []\n",
    "    for i, row in dataframe.iterrows():\n",
    "        img_path = os.path.join(image_folder, row['filename'])\n",
    "        img = preprocess_image(img_path)\n",
    "        if img is not None:  # Only append if image was loaded successfully\n",
    "            images.append(img)\n",
    "            labels.append(row.iloc[1:].values)  # Skip filename column\n",
    "    return images, labels"
   ]
  },
  {
   "cell_type": "code",
   "execution_count": 5,
   "id": "e7dde2ec-3bfd-405a-8e1c-00e0f043266c",
   "metadata": {},
   "outputs": [],
   "source": [
    "# Load and preprocess all datasets\n",
    "train_images, train_labels = load_data(train_data, 'data/train/images/')\n",
    "valid_images, valid_labels = load_data(valid_data, 'data/valid/images/')\n",
    "test_images, test_labels = load_data(test_data, 'data/test/images/')"
   ]
  },
  {
   "cell_type": "code",
   "execution_count": 6,
   "id": "2efac5d9-a602-4820-8bb7-45660d1a5550",
   "metadata": {},
   "outputs": [
    {
     "data": {
      "text/plain": [
       "array([[[0., 0., 0.],\n",
       "        [0., 0., 0.],\n",
       "        [0., 0., 0.],\n",
       "        ...,\n",
       "        [0., 0., 0.],\n",
       "        [0., 0., 0.],\n",
       "        [0., 0., 0.]],\n",
       "\n",
       "       [[0., 0., 0.],\n",
       "        [0., 0., 0.],\n",
       "        [0., 0., 0.],\n",
       "        ...,\n",
       "        [0., 0., 0.],\n",
       "        [0., 0., 0.],\n",
       "        [0., 0., 0.]],\n",
       "\n",
       "       [[0., 0., 0.],\n",
       "        [0., 0., 0.],\n",
       "        [0., 0., 0.],\n",
       "        ...,\n",
       "        [0., 0., 0.],\n",
       "        [0., 0., 0.],\n",
       "        [0., 0., 0.]],\n",
       "\n",
       "       ...,\n",
       "\n",
       "       [[0., 0., 0.],\n",
       "        [0., 0., 0.],\n",
       "        [0., 0., 0.],\n",
       "        ...,\n",
       "        [0., 0., 0.],\n",
       "        [0., 0., 0.],\n",
       "        [0., 0., 0.]],\n",
       "\n",
       "       [[0., 0., 0.],\n",
       "        [0., 0., 0.],\n",
       "        [0., 0., 0.],\n",
       "        ...,\n",
       "        [0., 0., 0.],\n",
       "        [0., 0., 0.],\n",
       "        [0., 0., 0.]],\n",
       "\n",
       "       [[0., 0., 0.],\n",
       "        [0., 0., 0.],\n",
       "        [0., 0., 0.],\n",
       "        ...,\n",
       "        [0., 0., 0.],\n",
       "        [0., 0., 0.],\n",
       "        [0., 0., 0.]]], dtype=float32)"
      ]
     },
     "execution_count": 6,
     "metadata": {},
     "output_type": "execute_result"
    }
   ],
   "source": [
    "train_images[0]"
   ]
  },
  {
   "cell_type": "code",
   "execution_count": 7,
   "id": "9d2bc527-1a64-4ffb-911c-a93db9c31864",
   "metadata": {},
   "outputs": [],
   "source": [
    "# Convert lists to NumPy arrays\n",
    "train_images = np.array(train_images, dtype=np.float32)\n",
    "train_labels = np.array(train_labels, dtype=np.float32)\n",
    "valid_images = np.array(valid_images, dtype=np.float32)\n",
    "valid_labels = np.array(valid_labels, dtype=np.float32)\n",
    "test_images = np.array(test_images, dtype=np.float32)\n",
    "test_labels = np.array(test_labels, dtype=np.float32)"
   ]
  },
  {
   "cell_type": "code",
   "execution_count": 8,
   "id": "29e63938-c651-4eda-b823-cbbe29b1ec73",
   "metadata": {},
   "outputs": [
    {
     "name": "stdout",
     "output_type": "stream",
     "text": [
      "Train images shape: (135, 224, 224, 3)\n",
      "Train labels shape: (135, 78)\n",
      "Valid images shape: (55, 224, 224, 3)\n",
      "Valid labels shape: (55, 78)\n",
      "Test images shape: (19, 224, 224, 3)\n",
      "Test labels shape: (19, 78)\n"
     ]
    }
   ],
   "source": [
    "# Check shapes\n",
    "print('Train images shape:', train_images.shape)\n",
    "print('Train labels shape:', train_labels.shape)\n",
    "print('Valid images shape:', valid_images.shape)\n",
    "print('Valid labels shape:', valid_labels.shape)\n",
    "print('Test images shape:', test_images.shape)\n",
    "print('Test labels shape:', test_labels.shape)"
   ]
  },
  {
   "cell_type": "code",
   "execution_count": 9,
   "id": "afc0e4e5-3735-4b35-999d-bca0f1367653",
   "metadata": {},
   "outputs": [
    {
     "name": "stdout",
     "output_type": "stream",
     "text": [
      "Train images dtype: float32\n",
      "Train labels dtype: float32\n",
      "Valid images dtype: float32\n",
      "Valid labels dtype: float32\n",
      "Test images dtype: float32\n",
      "Test labels dtype: float32\n"
     ]
    }
   ],
   "source": [
    "# Check the data type\n",
    "print(\"Train images dtype:\", train_images.dtype)\n",
    "print(\"Train labels dtype:\", train_labels.dtype)\n",
    "print(\"Valid images dtype:\", valid_images.dtype)\n",
    "print(\"Valid labels dtype:\", valid_labels.dtype)\n",
    "print(\"Test images dtype:\", test_images.dtype)\n",
    "print(\"Test labels dtype:\", test_labels.dtype)"
   ]
  },
  {
   "cell_type": "code",
   "execution_count": 10,
   "id": "4ee14c6f-ff2b-48e1-8297-a5c39f2a2eff",
   "metadata": {},
   "outputs": [
    {
     "name": "stdout",
     "output_type": "stream",
     "text": [
      "All files saved successfully in C:\\Users\\acer\\OneDrive\\Jupyter\\object_detection_project\\preprocessed\n"
     ]
    }
   ],
   "source": [
    "# Define the directory path\n",
    "preprocessed_dir = r\"C:\\Users\\acer\\OneDrive\\Jupyter\\object_detection_project\\preprocessed\"\n",
    "\n",
    "# Create the directory if it doesn't exist\n",
    "os.makedirs(preprocessed_dir, exist_ok=True)\n",
    "\n",
    "# Save as pickle files in the preprocessed folder\n",
    "with open(os.path.join(preprocessed_dir, 'train_images.pkl'), 'wb') as f:\n",
    "    pickle.dump(train_images, f)\n",
    "with open(os.path.join(preprocessed_dir, 'train_labels.pkl'), 'wb') as f:\n",
    "    pickle.dump(train_labels, f)\n",
    "with open(os.path.join(preprocessed_dir, 'valid_images.pkl'), 'wb') as f:\n",
    "    pickle.dump(valid_images, f)\n",
    "with open(os.path.join(preprocessed_dir, 'valid_labels.pkl'), 'wb') as f:\n",
    "    pickle.dump(valid_labels, f)\n",
    "with open(os.path.join(preprocessed_dir, 'test_images.pkl'), 'wb') as f:\n",
    "    pickle.dump(test_images, f)\n",
    "with open(os.path.join(preprocessed_dir, 'test_labels.pkl'), 'wb') as f:\n",
    "    pickle.dump(test_labels, f)\n",
    "\n",
    "print(f\"All files saved successfully in {preprocessed_dir}\")"
   ]
  }
 ],
 "metadata": {
  "kernelspec": {
   "display_name": "Python 3 (ipykernel)",
   "language": "python",
   "name": "python3"
  },
  "language_info": {
   "codemirror_mode": {
    "name": "ipython",
    "version": 3
   },
   "file_extension": ".py",
   "mimetype": "text/x-python",
   "name": "python",
   "nbconvert_exporter": "python",
   "pygments_lexer": "ipython3",
   "version": "3.11.7"
  }
 },
 "nbformat": 4,
 "nbformat_minor": 5
}
